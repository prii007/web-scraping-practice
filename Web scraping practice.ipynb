{
 "cells": [
  {
   "cell_type": "code",
   "execution_count": 2,
   "id": "45adbb0d",
   "metadata": {},
   "outputs": [
    {
     "name": "stdout",
     "output_type": "stream",
     "text": [
      "<!DOCTYPE html>\n",
      "\n",
      "<html lang=\"en\">\n",
      "<head>\n",
      "<meta charset=\"utf-8\"/>\n",
      "<title>Quotes to Scrape</title>\n",
      "<link href=\"/static/bootstrap.min.css\" rel=\"stylesheet\"/>\n",
      "<link href=\"/static/main.css\" rel=\"stylesheet\"/>\n",
      "</head>\n",
      "<body>\n",
      "<div class=\"container\">\n",
      "<div class=\"row header-box\">\n",
      "<div class=\"col-md-8\">\n",
      "<h1>\n",
      "<a href=\"/\" style=\"text-decoration: none\">Quotes to Scrape</a>\n",
      "</h1>\n",
      "</div>\n",
      "<div class=\"col-md-4\">\n",
      "<p>\n",
      "<a href=\"/login\">Login</a>\n",
      "</p>\n",
      "</div>\n",
      "</div>\n",
      "<div class=\"row\">\n",
      "<div class=\"col-md-8\">\n",
      "<div class=\"quote\" itemscope=\"\" itemtype=\"http://schema.org/CreativeWork\">\n",
      "<span class=\"text\" itemprop=\"text\">“The world as we have created it is a process of our thinking. It cannot be changed without changing our thinking.”</span>\n",
      "<span>by <small class=\"author\" itemprop=\"author\">Albert Einstein</small>\n",
      "<a href=\"/author/Albert-Einstein\">(about)</a>\n",
      "</span>\n",
      "<div class=\"tags\">\n",
      "            Tags:\n",
      "            <meta class=\"keywords\" content=\"change,deep-thoughts,thinking,world\" itemprop=\"keywords\"/>\n",
      "<a class=\"tag\" href=\"/tag/change/page/1/\">change</a>\n",
      "<a class=\"tag\" href=\"/tag/deep-thoughts/page/1/\">deep-thoughts</a>\n",
      "<a class=\"tag\" href=\"/tag/thinking/page/1/\">thinking</a>\n",
      "<a class=\"tag\" href=\"/tag/world/page/1/\">world</a>\n",
      "</div>\n",
      "</div>\n",
      "<div class=\"quote\" itemscope=\"\" itemtype=\"http://schema.org/CreativeWork\">\n",
      "<span class=\"text\" itemprop=\"text\">“It is our choices, Harry, that show what we truly are, far more than our abilities.”</span>\n",
      "<span>by <small class=\"author\" itemprop=\"author\">J.K. Rowling</small>\n",
      "<a href=\"/author/J-K-Rowling\">(about)</a>\n",
      "</span>\n",
      "<div class=\"tags\">\n",
      "            Tags:\n",
      "            <meta class=\"keywords\" content=\"abilities,choices\" itemprop=\"keywords\"/>\n",
      "<a class=\"tag\" href=\"/tag/abilities/page/1/\">abilities</a>\n",
      "<a class=\"tag\" href=\"/tag/choices/page/1/\">choices</a>\n",
      "</div>\n",
      "</div>\n",
      "<div class=\"quote\" itemscope=\"\" itemtype=\"http://schema.org/CreativeWork\">\n",
      "<span class=\"text\" itemprop=\"text\">“There are only two ways to live your life. One is as though nothing is a miracle. The other is as though everything is a miracle.”</span>\n",
      "<span>by <small class=\"author\" itemprop=\"author\">Albert Einstein</small>\n",
      "<a href=\"/author/Albert-Einstein\">(about)</a>\n",
      "</span>\n",
      "<div class=\"tags\">\n",
      "            Tags:\n",
      "            <meta class=\"keywords\" content=\"inspirational,life,live,miracle,miracles\" itemprop=\"keywords\"/>\n",
      "<a class=\"tag\" href=\"/tag/inspirational/page/1/\">inspirational</a>\n",
      "<a class=\"tag\" href=\"/tag/life/page/1/\">life</a>\n",
      "<a class=\"tag\" href=\"/tag/live/page/1/\">live</a>\n",
      "<a class=\"tag\" href=\"/tag/miracle/page/1/\">miracle</a>\n",
      "<a class=\"tag\" href=\"/tag/miracles/page/1/\">miracles</a>\n",
      "</div>\n",
      "</div>\n",
      "<div class=\"quote\" itemscope=\"\" itemtype=\"http://schema.org/CreativeWork\">\n",
      "<span class=\"text\" itemprop=\"text\">“The person, be it gentleman or lady, who has not pleasure in a good novel, must be intolerably stupid.”</span>\n",
      "<span>by <small class=\"author\" itemprop=\"author\">Jane Austen</small>\n",
      "<a href=\"/author/Jane-Austen\">(about)</a>\n",
      "</span>\n",
      "<div class=\"tags\">\n",
      "            Tags:\n",
      "            <meta class=\"keywords\" content=\"aliteracy,books,classic,humor\" itemprop=\"keywords\"/>\n",
      "<a class=\"tag\" href=\"/tag/aliteracy/page/1/\">aliteracy</a>\n",
      "<a class=\"tag\" href=\"/tag/books/page/1/\">books</a>\n",
      "<a class=\"tag\" href=\"/tag/classic/page/1/\">classic</a>\n",
      "<a class=\"tag\" href=\"/tag/humor/page/1/\">humor</a>\n",
      "</div>\n",
      "</div>\n",
      "<div class=\"quote\" itemscope=\"\" itemtype=\"http://schema.org/CreativeWork\">\n",
      "<span class=\"text\" itemprop=\"text\">“Imperfection is beauty, madness is genius and it's better to be absolutely ridiculous than absolutely boring.”</span>\n",
      "<span>by <small class=\"author\" itemprop=\"author\">Marilyn Monroe</small>\n",
      "<a href=\"/author/Marilyn-Monroe\">(about)</a>\n",
      "</span>\n",
      "<div class=\"tags\">\n",
      "            Tags:\n",
      "            <meta class=\"keywords\" content=\"be-yourself,inspirational\" itemprop=\"keywords\"/>\n",
      "<a class=\"tag\" href=\"/tag/be-yourself/page/1/\">be-yourself</a>\n",
      "<a class=\"tag\" href=\"/tag/inspirational/page/1/\">inspirational</a>\n",
      "</div>\n",
      "</div>\n",
      "<div class=\"quote\" itemscope=\"\" itemtype=\"http://schema.org/CreativeWork\">\n",
      "<span class=\"text\" itemprop=\"text\">“Try not to become a man of success. Rather become a man of value.”</span>\n",
      "<span>by <small class=\"author\" itemprop=\"author\">Albert Einstein</small>\n",
      "<a href=\"/author/Albert-Einstein\">(about)</a>\n",
      "</span>\n",
      "<div class=\"tags\">\n",
      "            Tags:\n",
      "            <meta class=\"keywords\" content=\"adulthood,success,value\" itemprop=\"keywords\"/>\n",
      "<a class=\"tag\" href=\"/tag/adulthood/page/1/\">adulthood</a>\n",
      "<a class=\"tag\" href=\"/tag/success/page/1/\">success</a>\n",
      "<a class=\"tag\" href=\"/tag/value/page/1/\">value</a>\n",
      "</div>\n",
      "</div>\n",
      "<div class=\"quote\" itemscope=\"\" itemtype=\"http://schema.org/CreativeWork\">\n",
      "<span class=\"text\" itemprop=\"text\">“It is better to be hated for what you are than to be loved for what you are not.”</span>\n",
      "<span>by <small class=\"author\" itemprop=\"author\">André Gide</small>\n",
      "<a href=\"/author/Andre-Gide\">(about)</a>\n",
      "</span>\n",
      "<div class=\"tags\">\n",
      "            Tags:\n",
      "            <meta class=\"keywords\" content=\"life,love\" itemprop=\"keywords\"/>\n",
      "<a class=\"tag\" href=\"/tag/life/page/1/\">life</a>\n",
      "<a class=\"tag\" href=\"/tag/love/page/1/\">love</a>\n",
      "</div>\n",
      "</div>\n",
      "<div class=\"quote\" itemscope=\"\" itemtype=\"http://schema.org/CreativeWork\">\n",
      "<span class=\"text\" itemprop=\"text\">“I have not failed. I've just found 10,000 ways that won't work.”</span>\n",
      "<span>by <small class=\"author\" itemprop=\"author\">Thomas A. Edison</small>\n",
      "<a href=\"/author/Thomas-A-Edison\">(about)</a>\n",
      "</span>\n",
      "<div class=\"tags\">\n",
      "            Tags:\n",
      "            <meta class=\"keywords\" content=\"edison,failure,inspirational,paraphrased\" itemprop=\"keywords\"/>\n",
      "<a class=\"tag\" href=\"/tag/edison/page/1/\">edison</a>\n",
      "<a class=\"tag\" href=\"/tag/failure/page/1/\">failure</a>\n",
      "<a class=\"tag\" href=\"/tag/inspirational/page/1/\">inspirational</a>\n",
      "<a class=\"tag\" href=\"/tag/paraphrased/page/1/\">paraphrased</a>\n",
      "</div>\n",
      "</div>\n",
      "<div class=\"quote\" itemscope=\"\" itemtype=\"http://schema.org/CreativeWork\">\n",
      "<span class=\"text\" itemprop=\"text\">“A woman is like a tea bag; you never know how strong it is until it's in hot water.”</span>\n",
      "<span>by <small class=\"author\" itemprop=\"author\">Eleanor Roosevelt</small>\n",
      "<a href=\"/author/Eleanor-Roosevelt\">(about)</a>\n",
      "</span>\n",
      "<div class=\"tags\">\n",
      "            Tags:\n",
      "            <meta class=\"keywords\" content=\"misattributed-eleanor-roosevelt\" itemprop=\"keywords\"/>\n",
      "<a class=\"tag\" href=\"/tag/misattributed-eleanor-roosevelt/page/1/\">misattributed-eleanor-roosevelt</a>\n",
      "</div>\n",
      "</div>\n",
      "<div class=\"quote\" itemscope=\"\" itemtype=\"http://schema.org/CreativeWork\">\n",
      "<span class=\"text\" itemprop=\"text\">“A day without sunshine is like, you know, night.”</span>\n",
      "<span>by <small class=\"author\" itemprop=\"author\">Steve Martin</small>\n",
      "<a href=\"/author/Steve-Martin\">(about)</a>\n",
      "</span>\n",
      "<div class=\"tags\">\n",
      "            Tags:\n",
      "            <meta class=\"keywords\" content=\"humor,obvious,simile\" itemprop=\"keywords\"/>\n",
      "<a class=\"tag\" href=\"/tag/humor/page/1/\">humor</a>\n",
      "<a class=\"tag\" href=\"/tag/obvious/page/1/\">obvious</a>\n",
      "<a class=\"tag\" href=\"/tag/simile/page/1/\">simile</a>\n",
      "</div>\n",
      "</div>\n",
      "<nav>\n",
      "<ul class=\"pager\">\n",
      "<li class=\"next\">\n",
      "<a href=\"/page/2/\">Next <span aria-hidden=\"true\">→</span></a>\n",
      "</li>\n",
      "</ul>\n",
      "</nav>\n",
      "</div>\n",
      "<div class=\"col-md-4 tags-box\">\n",
      "<h2>Top Ten tags</h2>\n",
      "<span class=\"tag-item\">\n",
      "<a class=\"tag\" href=\"/tag/love/\" style=\"font-size: 28px\">love</a>\n",
      "</span>\n",
      "<span class=\"tag-item\">\n",
      "<a class=\"tag\" href=\"/tag/inspirational/\" style=\"font-size: 26px\">inspirational</a>\n",
      "</span>\n",
      "<span class=\"tag-item\">\n",
      "<a class=\"tag\" href=\"/tag/life/\" style=\"font-size: 26px\">life</a>\n",
      "</span>\n",
      "<span class=\"tag-item\">\n",
      "<a class=\"tag\" href=\"/tag/humor/\" style=\"font-size: 24px\">humor</a>\n",
      "</span>\n",
      "<span class=\"tag-item\">\n",
      "<a class=\"tag\" href=\"/tag/books/\" style=\"font-size: 22px\">books</a>\n",
      "</span>\n",
      "<span class=\"tag-item\">\n",
      "<a class=\"tag\" href=\"/tag/reading/\" style=\"font-size: 14px\">reading</a>\n",
      "</span>\n",
      "<span class=\"tag-item\">\n",
      "<a class=\"tag\" href=\"/tag/friendship/\" style=\"font-size: 10px\">friendship</a>\n",
      "</span>\n",
      "<span class=\"tag-item\">\n",
      "<a class=\"tag\" href=\"/tag/friends/\" style=\"font-size: 8px\">friends</a>\n",
      "</span>\n",
      "<span class=\"tag-item\">\n",
      "<a class=\"tag\" href=\"/tag/truth/\" style=\"font-size: 8px\">truth</a>\n",
      "</span>\n",
      "<span class=\"tag-item\">\n",
      "<a class=\"tag\" href=\"/tag/simile/\" style=\"font-size: 6px\">simile</a>\n",
      "</span>\n",
      "</div>\n",
      "</div>\n",
      "</div>\n",
      "<footer class=\"footer\">\n",
      "<div class=\"container\">\n",
      "<p class=\"text-muted\">\n",
      "                Quotes by: <a href=\"https://www.goodreads.com/quotes\">GoodReads.com</a>\n",
      "</p>\n",
      "<p class=\"copyright\">\n",
      "                Made with <span class=\"zyte\">❤</span> by <a class=\"zyte\" href=\"https://www.zyte.com\">Zyte</a>\n",
      "</p>\n",
      "</div>\n",
      "</footer>\n",
      "</body>\n",
      "</html>\n"
     ]
    }
   ],
   "source": [
    "from bs4 import BeautifulSoup\n",
    "import requests \n",
    "import time \n",
    "\n",
    "headers = {'User-agent': 'Mozilla/5.0'}\n",
    "\n",
    "URL = \"https://quotes.toscrape.com/\"\n",
    "page = requests.get(URL, headers=headers)\n",
    "\n",
    "soup = BeautifulSoup(page.content, 'html.parser')\n",
    "\n",
    "print(soup)"
   ]
  },
  {
   "cell_type": "markdown",
   "id": "8e55f45e",
   "metadata": {},
   "source": [
    "#Question 2- what type of selection method would you use to select the _fourth_ \"Top Ten tag\"?"
   ]
  },
  {
   "cell_type": "code",
   "execution_count": 3,
   "id": "517b5e64",
   "metadata": {},
   "outputs": [
    {
     "name": "stdout",
     "output_type": "stream",
     "text": [
      "\n",
      "humor\n",
      "\n"
     ]
    }
   ],
   "source": [
    "headers = {'User-agent': 'Mozilla/5.0'}\n",
    "\n",
    "URL = \"https://quotes.toscrape.com/\"\n",
    "page = requests.get(URL, headers=headers)\n",
    "\n",
    "soup = BeautifulSoup(page.content, 'html.parser')\n",
    "\n",
    "fourth_tag = soup.select('span.tag-item') \n",
    "\n",
    "\n",
    "print(fourth_tag[3].text)"
   ]
  },
  {
   "cell_type": "markdown",
   "id": "f55c4967",
   "metadata": {},
   "source": [
    "#Question 3- write Python code to load the page and select the fourth \"Top Ten tag\".  Extract the link's href to screen."
   ]
  },
  {
   "cell_type": "code",
   "execution_count": 4,
   "id": "917d3e30",
   "metadata": {
    "scrolled": true
   },
   "outputs": [
    {
     "name": "stdout",
     "output_type": "stream",
     "text": [
      "/tag/humor/\n"
     ]
    }
   ],
   "source": [
    "fourth_tag = soup.select('span.tag-item') \n",
    "\n",
    "print(fourth_tag[3].find('a')['href'])"
   ]
  },
  {
   "cell_type": "markdown",
   "id": "14e5e45d",
   "metadata": {},
   "source": [
    "#Question 4- the URL you print in (3) is incomplete.  It is called a relative path (as opposed to a full path).  You will need to add the domain name (\"http://quotes.toscrape.com/\") to the front of it to make it a complete URL."
   ]
  },
  {
   "cell_type": "code",
   "execution_count": 5,
   "id": "bee39e01",
   "metadata": {
    "scrolled": true
   },
   "outputs": [
    {
     "name": "stdout",
     "output_type": "stream",
     "text": [
      "https://quotes.toscrape.com/tag/humor/\n"
     ]
    }
   ],
   "source": [
    "headers = {'User-agent': 'Mozilla/5.0'}\n",
    "\n",
    "URL = \"https://quotes.toscrape.com/\"\n",
    "page = requests.get(URL, headers=headers)\n",
    "\n",
    "soup = BeautifulSoup(page.content, 'html.parser')\n",
    "\n",
    "fourth_tag = soup.select('span.tag-item') \n",
    "\n",
    "q4 = fourth_tag[3].find('a')['href']\n",
    "\n",
    "full_url = URL.rstrip('/') + q4\n",
    "\n",
    "print(full_url)\n"
   ]
  },
  {
   "cell_type": "markdown",
   "id": "082b1a69",
   "metadata": {},
   "source": [
    "#Question 5- add to your code in (3) and make it follow the full URL obtained in (4).  Add a delay (time.sleep) of 10 seconds before executing this second page request."
   ]
  },
  {
   "cell_type": "code",
   "execution_count": 6,
   "id": "15a9aa9e",
   "metadata": {},
   "outputs": [
    {
     "name": "stdout",
     "output_type": "stream",
     "text": [
      "https://quotes.toscrape.com/tag/humor/\n"
     ]
    }
   ],
   "source": [
    "headers = {'User-agent': 'Mozilla/5.0'}\n",
    "\n",
    "URL = \"https://quotes.toscrape.com/\"\n",
    "page = requests.get(URL, headers=headers)\n",
    "\n",
    "soup = BeautifulSoup(page.content, 'html.parser')\n",
    "\n",
    "fourth_tag = soup.select('span.tag-item') \n",
    "\n",
    "q4 = fourth_tag[3].find('a')['href']\n",
    "\n",
    "full_url = URL.rstrip('/') + q4\n",
    "\n",
    "print(full_url)\n",
    "\n",
    "time.sleep(10)\n",
    "\n",
    "second_page = requests.get(full_url)"
   ]
  },
  {
   "cell_type": "markdown",
   "id": "eaee93aa",
   "metadata": {},
   "source": [
    "#Question 6 - what selection method would you use to select all quotes (including their author) in the resulting page?"
   ]
  },
  {
   "cell_type": "code",
   "execution_count": 7,
   "id": "d4a13a78",
   "metadata": {
    "scrolled": true
   },
   "outputs": [
    {
     "name": "stdout",
     "output_type": "stream",
     "text": [
      "“The world as we have created it is a process of our thinking. It cannot be changed without changing our thinking.” - Albert Einstein\n",
      "\n",
      "“It is our choices, Harry, that show what we truly are, far more than our abilities.” - J.K. Rowling\n",
      "\n",
      "“There are only two ways to live your life. One is as though nothing is a miracle. The other is as though everything is a miracle.” - Albert Einstein\n",
      "\n",
      "“The person, be it gentleman or lady, who has not pleasure in a good novel, must be intolerably stupid.” - Jane Austen\n",
      "\n",
      "“Imperfection is beauty, madness is genius and it's better to be absolutely ridiculous than absolutely boring.” - Marilyn Monroe\n",
      "\n",
      "“Try not to become a man of success. Rather become a man of value.” - Albert Einstein\n",
      "\n",
      "“It is better to be hated for what you are than to be loved for what you are not.” - André Gide\n",
      "\n",
      "“I have not failed. I've just found 10,000 ways that won't work.” - Thomas A. Edison\n",
      "\n",
      "“A woman is like a tea bag; you never know how strong it is until it's in hot water.” - Eleanor Roosevelt\n",
      "\n",
      "“A day without sunshine is like, you know, night.” - Steve Martin\n",
      "\n"
     ]
    }
   ],
   "source": [
    "headers = {'User-agent': 'Mozilla/5.0'}\n",
    "\n",
    "URL = \"https://quotes.toscrape.com/\"\n",
    "page = requests.get(URL, headers=headers)\n",
    "\n",
    "soup = BeautifulSoup(page.content, 'html.parser')\n",
    "\n",
    "quotes = soup.select('.quote')\n",
    "\n",
    "for quote in quotes: \n",
    "    quote_text = quote.select_one('span.text').get_text()\n",
    "    \n",
    "    author_name = quote.find('small',class_='author').get_text()\n",
    "\n",
    "    print(quote_text, '-', author_name)\n",
    "    print()# to add space between the quotes \n"
   ]
  },
  {
   "cell_type": "markdown",
   "id": "b8e4522b",
   "metadata": {},
   "source": [
    "#Question 7 - modify your code in (5) and select all quotes (including their author)"
   ]
  },
  {
   "cell_type": "code",
   "execution_count": 8,
   "id": "0c6ebb86",
   "metadata": {
    "scrolled": true
   },
   "outputs": [
    {
     "name": "stdout",
     "output_type": "stream",
     "text": [
      "“The world as we have created it is a process of our thinking. It cannot be changed without changing our thinking.” - Albert Einstein\n",
      "\n",
      "“It is our choices, Harry, that show what we truly are, far more than our abilities.” - J.K. Rowling\n",
      "\n",
      "“There are only two ways to live your life. One is as though nothing is a miracle. The other is as though everything is a miracle.” - Albert Einstein\n",
      "\n",
      "“The person, be it gentleman or lady, who has not pleasure in a good novel, must be intolerably stupid.” - Jane Austen\n",
      "\n",
      "“Imperfection is beauty, madness is genius and it's better to be absolutely ridiculous than absolutely boring.” - Marilyn Monroe\n",
      "\n",
      "“Try not to become a man of success. Rather become a man of value.” - Albert Einstein\n",
      "\n",
      "“It is better to be hated for what you are than to be loved for what you are not.” - André Gide\n",
      "\n",
      "“I have not failed. I've just found 10,000 ways that won't work.” - Thomas A. Edison\n",
      "\n",
      "“A woman is like a tea bag; you never know how strong it is until it's in hot water.” - Eleanor Roosevelt\n",
      "\n",
      "“A day without sunshine is like, you know, night.” - Steve Martin\n",
      "\n"
     ]
    }
   ],
   "source": [
    "headers = {'User-agent': 'Mozilla/5.0'}\n",
    "\n",
    "URL = \"https://quotes.toscrape.com/\"\n",
    "page = requests.get(URL, headers=headers)\n",
    "\n",
    "soup = BeautifulSoup(page.content, 'html.parser')\n",
    "\n",
    "fourth_tag = soup.select('span.tag-item') \n",
    "\n",
    "q4 = fourth_tag[3].find('a')['href']\n",
    "\n",
    "full_url = URL.rstrip('/') + q4\n",
    "\n",
    "#print(full_url)\n",
    "\n",
    "time.sleep(10)\n",
    "\n",
    "second_page = requests.get(full_url)\n",
    "\n",
    "quotes = soup.select('.quote')\n",
    "\n",
    "for quote in quotes: \n",
    "    quote_text = quote.select_one('span.text').get_text()\n",
    "    \n",
    "    author_name = quote.find('small',class_='author').get_text()\n",
    "\n",
    "    print(quote_text, '-', author_name)\n",
    "    print() "
   ]
  },
  {
   "cell_type": "markdown",
   "id": "15d8679f",
   "metadata": {},
   "source": [
    "#Question 8 - use a loop and text manipulation (RegEx preferred if possible) to print to screen all quotes in the following format (example):Jane Austen: “The person, be it gentleman or lady, who has not pleasure in a good novel, must be intolerably stupid.”"
   ]
  },
  {
   "cell_type": "code",
   "execution_count": 9,
   "id": "907429f1",
   "metadata": {},
   "outputs": [
    {
     "name": "stdout",
     "output_type": "stream",
     "text": [
      "Albert Einstein: “The world as we have created it is a process of our thinking. It cannot be changed without changing our thinking.”\n",
      "\n",
      "J.K. Rowling: “It is our choices, Harry, that show what we truly are, far more than our abilities.”\n",
      "\n",
      "Albert Einstein: “There are only two ways to live your life. One is as though nothing is a miracle. The other is as though everything is a miracle.”\n",
      "\n",
      "Jane Austen: “The person, be it gentleman or lady, who has not pleasure in a good novel, must be intolerably stupid.”\n",
      "\n",
      "Marilyn Monroe: “Imperfection is beauty, madness is genius and it's better to be absolutely ridiculous than absolutely boring.”\n",
      "\n",
      "Albert Einstein: “Try not to become a man of success. Rather become a man of value.”\n",
      "\n",
      "André Gide: “It is better to be hated for what you are than to be loved for what you are not.”\n",
      "\n",
      "Thomas A. Edison: “I have not failed. I've just found 10,000 ways that won't work.”\n",
      "\n",
      "Eleanor Roosevelt: “A woman is like a tea bag; you never know how strong it is until it's in hot water.”\n",
      "\n",
      "Steve Martin: “A day without sunshine is like, you know, night.”\n",
      "\n"
     ]
    }
   ],
   "source": [
    "headers = {'User-agent': 'Mozilla/5.0'}\n",
    "\n",
    "URL = \"https://quotes.toscrape.com/\"\n",
    "page = requests.get(URL, headers=headers)\n",
    "\n",
    "soup = BeautifulSoup(page.content, 'html.parser')\n",
    "\n",
    "quotes = soup.select('.quote')\n",
    "\n",
    "for quote in quotes: \n",
    "    quote_text = quote.select_one('span.text').get_text()\n",
    "    \n",
    "    author_name = quote.find('small',class_='author').get_text()\n",
    "    \n",
    "    print(f\"{author_name}: {quote_text}\\n\")\n"
   ]
  },
  {
   "cell_type": "markdown",
   "id": "6f6d42a5",
   "metadata": {},
   "source": [
    "#Question 9 - what selection method would you use to select the \"Next →\" link at the bottom of the page?"
   ]
  },
  {
   "cell_type": "code",
   "execution_count": 10,
   "id": "d31563fa",
   "metadata": {
    "scrolled": true
   },
   "outputs": [
    {
     "name": "stdout",
     "output_type": "stream",
     "text": [
      "\n",
      "Next →\n",
      "\n"
     ]
    }
   ],
   "source": [
    "headers = {'User-agent': 'Mozilla/5.0'}\n",
    "\n",
    "URL = \"https://quotes.toscrape.com/\"\n",
    "page = requests.get(URL, headers=headers)\n",
    "\n",
    "soup = BeautifulSoup(page.content, 'html.parser')\n",
    "\n",
    "next_link = soup.select('li.next')\n",
    "\n",
    "print(next_link[0].text)"
   ]
  },
  {
   "cell_type": "markdown",
   "id": "319413ba",
   "metadata": {},
   "source": [
    "#Question 10 - modify your code in (8) to select \"Next →\", extract it's linked URL, and follow the full URL.  Add a delay (time.sleep) of 10 seconds before executing this third page request."
   ]
  },
  {
   "cell_type": "code",
   "execution_count": 11,
   "id": "acda9cf3",
   "metadata": {},
   "outputs": [
    {
     "name": "stdout",
     "output_type": "stream",
     "text": [
      "\n",
      "Next →\n",
      "\n",
      "https://quotes.toscrape.com/page/2/\n"
     ]
    }
   ],
   "source": [
    "headers = {'User-agent': 'Mozilla/5.0'}\n",
    "\n",
    "URL = \"https://quotes.toscrape.com/\"\n",
    "page = requests.get(URL, headers=headers)\n",
    "\n",
    "soup = BeautifulSoup(page.content, 'html.parser')\n",
    "\n",
    "next_link = soup.select('li.next')\n",
    "\n",
    "q10 = next_link[0].find('a')['href']\n",
    "\n",
    "next_full_url = URL.rstrip('/') + q10\n",
    "\n",
    "print(next_link[0].text)\n",
    "\n",
    "print(next_full_url)\n",
    "\n",
    "time.sleep(10)\n",
    "\n",
    "third_page = requests.get(next_full_url)"
   ]
  },
  {
   "cell_type": "markdown",
   "id": "285398c4",
   "metadata": {},
   "source": [
    "#Question 11 - print all quotes of the resulting page similar to (8)."
   ]
  },
  {
   "cell_type": "code",
   "execution_count": 12,
   "id": "86b24205",
   "metadata": {},
   "outputs": [
    {
     "name": "stdout",
     "output_type": "stream",
     "text": [
      "Marilyn Monroe: “This life is what you make it. No matter what, you're going to mess up sometimes, it's a universal truth. But the good part is you get to decide how you're going to mess it up. Girls will be your friends - they'll act like it anyway. But just remember, some come, some go. The ones that stay with you through everything - they're your true best friends. Don't let go of them. Also remember, sisters make the best friends in the world. As for lovers, well, they'll come and go too. And baby, I hate to say it, most of them - actually pretty much all of them are going to break your heart, but you can't give up because if you give up, you'll never find your soulmate. You'll never find that half who makes you whole and that goes for everything. Just because you fail once, doesn't mean you're gonna fail at everything. Keep trying, hold on, and always, always, always believe in yourself, because if you don't, then who will, sweetie? So keep your head high, keep your chin up, and most importantly, keep smiling, because life's a beautiful thing and there's so much to smile about.”\n",
      "\n",
      "J.K. Rowling: “It takes a great deal of bravery to stand up to our enemies, but just as much to stand up to our friends.”\n",
      "\n",
      "Albert Einstein: “If you can't explain it to a six year old, you don't understand it yourself.”\n",
      "\n",
      "Bob Marley: “You may not be her first, her last, or her only. She loved before she may love again. But if she loves you now, what else matters? She's not perfect—you aren't either, and the two of you may never be perfect together but if she can make you laugh, cause you to think twice, and admit to being human and making mistakes, hold onto her and give her the most you can. She may not be thinking about you every second of the day, but she will give you a part of her that she knows you can break—her heart. So don't hurt her, don't change her, don't analyze and don't expect more than she can give. Smile when she makes you happy, let her know when she makes you mad, and miss her when she's not there.”\n",
      "\n",
      "Dr. Seuss: “I like nonsense, it wakes up the brain cells. Fantasy is a necessary ingredient in living.”\n",
      "\n",
      "Douglas Adams: “I may not have gone where I intended to go, but I think I have ended up where I needed to be.”\n",
      "\n",
      "Elie Wiesel: “The opposite of love is not hate, it's indifference. The opposite of art is not ugliness, it's indifference. The opposite of faith is not heresy, it's indifference. And the opposite of life is not death, it's indifference.”\n",
      "\n",
      "Friedrich Nietzsche: “It is not a lack of love, but a lack of friendship that makes unhappy marriages.”\n",
      "\n",
      "Mark Twain: “Good friends, good books, and a sleepy conscience: this is the ideal life.”\n",
      "\n",
      "Allen Saunders: “Life is what happens to us while we are making other plans.”\n",
      "\n"
     ]
    }
   ],
   "source": [
    "headers = {'User-agent': 'Mozilla/5.0'}\n",
    "\n",
    "URL_page3 = \"https://quotes.toscrape.com/page/2/\"\n",
    "    \n",
    "page3 = requests.get(URL_page3, headers=headers)\n",
    "\n",
    "soup = BeautifulSoup(page3.content, 'html.parser')\n",
    "   \n",
    "quotes_2 = soup.select('.quote')\n",
    "\n",
    "for quote in quotes_2: \n",
    "    quote_text = quote.select_one('span.text').get_text()\n",
    "    \n",
    "    author_name = quote.find('small',class_='author').get_text()\n",
    "    \n",
    "    print(f\"{author_name}: {quote_text}\\n\")    "
   ]
  }
 ],
 "metadata": {
  "kernelspec": {
   "display_name": "Python 3 (ipykernel)",
   "language": "python",
   "name": "python3"
  },
  "language_info": {
   "codemirror_mode": {
    "name": "ipython",
    "version": 3
   },
   "file_extension": ".py",
   "mimetype": "text/x-python",
   "name": "python",
   "nbconvert_exporter": "python",
   "pygments_lexer": "ipython3",
   "version": "3.11.5"
  }
 },
 "nbformat": 4,
 "nbformat_minor": 5
}
